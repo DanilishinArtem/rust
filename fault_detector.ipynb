{
 "cells": [
  {
   "cell_type": "code",
   "execution_count": 1,
   "metadata": {},
   "outputs": [],
   "source": [
    "import torch\n",
    "import struct\n",
    "import numpy as np\n",
    "import matplotlib.pyplot as plt"
   ]
  },
  {
   "cell_type": "code",
   "execution_count": 2,
   "metadata": {},
   "outputs": [],
   "source": [
    "def shannon_entropy(tensor: torch.Tensor, base: float = 2.0) -> float:\n",
    "    abs_tensor = torch.abs(tensor)\n",
    "    probs = abs_tensor / abs_tensor.sum()\n",
    "    probs = probs[probs > 0]  # Игнорируем нулевые элементы\n",
    "    if probs.numel() == 0:\n",
    "        return 0.0\n",
    "    if base == 2:\n",
    "        log_fn = torch.log2\n",
    "    elif base == torch.e:\n",
    "        log_fn = torch.log\n",
    "    else:\n",
    "        log_fn = lambda x: torch.log(x) / torch.log(torch.tensor(base))\n",
    "    entropy = -torch.sum(probs * log_fn(probs))\n",
    "    return entropy.item()"
   ]
  },
  {
   "cell_type": "code",
   "execution_count": 67,
   "metadata": {},
   "outputs": [],
   "source": [
    "def test(tensor):\n",
    "    # Вычисляем энтропию в битах (по умолчанию)\n",
    "    entropy_bits = shannon_entropy(tensor)\n",
    "    print(f\"Энтропия (биты): {entropy_bits:.4f}\")\n",
    "    # Вычисляем энтропию в натсах (натуральные единицы)\n",
    "    entropy_nats = shannon_entropy(tensor, base=torch.e)\n",
    "    print(f\"Энтропия (наты): {entropy_nats:.4f}\")\n",
    "\n",
    "def bitflip_float(value, n: int, dtype: str = \"float16\"):\n",
    "    import struct\n",
    "    import numpy as np\n",
    "    value = np.array(value)\n",
    "    n = 15 - n\n",
    "    if dtype == \"float16\":\n",
    "        bits = np.frombuffer(value.tobytes(), dtype=np.uint16)[0]  # 16-битное представление\n",
    "    elif dtype == \"bfloat16\":\n",
    "        bits = np.frombuffer(np.array(value, dtype=np.float32).tobytes(), dtype=np.uint32)[0] >> 16  # Берем старшие 16 бит float32\n",
    "    else:\n",
    "        raise ValueError(\"dtype должен быть 'float16' или 'bfloat16'\")\n",
    "    if not (0 <= n < 16):\n",
    "        raise ValueError(\"Позиция бита должна быть в диапазоне 0-15\")\n",
    "    flipped_bits = bits ^ (1 << n)\n",
    "    if dtype == \"float16\":\n",
    "        flipped_bytes = struct.pack(\"H\", flipped_bits)\n",
    "        return np.frombuffer(flipped_bytes, dtype=np.float16)[0]\n",
    "    elif dtype == \"bfloat16\":\n",
    "        flipped_value = (flipped_bits << 16)\n",
    "        return np.frombuffer(struct.pack(\"I\", flipped_value), dtype=np.float32)[0]\n",
    "\n",
    "def make_fault(tensor, index, dtype):\n",
    "    source_value = tensor[tuple(np.random.randint(tensor.shape))].item()\n",
    "    fault_value = bitflip_float(source_value, index, dtype).item()\n",
    "    print(\"[Fault injected]   source value: {}, fault value: {}\".format(source_value, fault_value))\n",
    "    tensor[tuple(np.random.randint(tensor.shape))] = fault_value\n",
    "    return tensor\n",
    "\n",
    "def make_fault_tensor(tensor1, tensor2, result, index, dtype, position):\n",
    "    if position == 'tensor1':\n",
    "        tensor1 = make_fault(tensor1, index, dtype)\n",
    "    elif position == 'tensor2':\n",
    "        tensor2 = make_fault(tensor2, index, dtype)\n",
    "    elif position == 'result':\n",
    "        result = make_fault(result, index, dtype)\n",
    "    else:\n",
    "        raise ValueError(\"Position should be: tensor1 or tensor2 or result\")\n",
    "    return tensor1, tensor2, result"
   ]
  },
  {
   "cell_type": "code",
   "execution_count": 85,
   "metadata": {},
   "outputs": [
    {
     "name": "stdout",
     "output_type": "stream",
     "text": [
      "Tensor before fault\n",
      "Энтропия (биты): 17.7500\n",
      "Энтропия (наты): 12.3125\n",
      "Tensor after fault\n",
      "[Fault injected]   source value: 1.2951204553246498e-09, fault value: 4.407066539855954e+29\n",
      "Энтропия (биты): 9.5625\n",
      "Энтропия (наты): 6.6250\n"
     ]
    }
   ],
   "source": [
    "m, n, k = 300, 500, 1000\n",
    "type_ = torch.bfloat16\n",
    "type_str = \"bfloat16\"\n",
    "\n",
    "tensor1 = torch.randn(m, n).type(type_) * 1e-9\n",
    "tensor2 = torch.randn(n, k).type(type_) * 1e-9\n",
    "result = torch.matmul(tensor1, tensor2)\n",
    "\n",
    "\n",
    "print(\"Tensor before fault\")\n",
    "test(result)\n",
    "\n",
    "\n",
    "print(\"Tensor after fault\")\n",
    "fault_pattern = 'tensor1'\n",
    "index = 1\n",
    "\n",
    "\n",
    "tensor1, tensor2, result = make_fault_tensor(tensor1, tensor2, result, index, type_str, fault_pattern)\n",
    "result = torch.matmul(tensor1, tensor2)\n",
    "test(result)\n",
    "# if fault_pattern == 'tensor1':\n",
    "#     test(tensor1)\n",
    "# elif fault_pattern == 'tensor2':\n",
    "#     test(tensor2)\n",
    "# else:\n",
    "#     test(result)\n"
   ]
  }
 ],
 "metadata": {
  "kernelspec": {
   "display_name": "base",
   "language": "python",
   "name": "python3"
  },
  "language_info": {
   "codemirror_mode": {
    "name": "ipython",
    "version": 3
   },
   "file_extension": ".py",
   "mimetype": "text/x-python",
   "name": "python",
   "nbconvert_exporter": "python",
   "pygments_lexer": "ipython3",
   "version": "3.12.2"
  }
 },
 "nbformat": 4,
 "nbformat_minor": 2
}
